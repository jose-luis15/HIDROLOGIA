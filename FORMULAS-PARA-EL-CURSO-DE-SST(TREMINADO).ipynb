{
  "nbformat": 4,
  "nbformat_minor": 0,
  "metadata": {
    "colab": {
      "name": "Untitled26.ipynb",
      "provenance": [],
      "collapsed_sections": [],
      "authorship_tag": "ABX9TyPc/haoToD14qnB3EeVVb0V",
      "include_colab_link": true
    },
    "kernelspec": {
      "name": "python3",
      "display_name": "Python 3"
    }
  },
  "cells": [
    {
      "cell_type": "markdown",
      "metadata": {
        "id": "view-in-github",
        "colab_type": "text"
      },
      "source": [
        "<a href=\"https://colab.research.google.com/github/jose-luis15/HIDROLOGIA/blob/master/FORMULAS-PARA-EL-CURSO-DE-SST(TREMINADO).ipynb\" target=\"_parent\"><img src=\"https://colab.research.google.com/assets/colab-badge.svg\" alt=\"Open In Colab\"/></a>"
      ]
    },
    {
      "cell_type": "markdown",
      "metadata": {
        "id": "CHQkCNqPdkP2",
        "colab_type": "text"
      },
      "source": [
        "**FORMULAS PARA EL CURSO DE SST - SESION N°3**\n",
        "\n",
        "> Codigos que ayudaran a agilizar los calculos de esta sesion\n",
        "\n"
      ]
    },
    {
      "cell_type": "code",
      "metadata": {
        "id": "XCnyc2LMBtcA",
        "colab_type": "code",
        "colab": {}
      },
      "source": [
        "import math\n",
        "import numpy as np\n",
        "#tener en consideracion que NPSeq = NEeq"
      ],
      "execution_count": 0,
      "outputs": []
    },
    {
      "cell_type": "markdown",
      "metadata": {
        "id": "gXK8TWgdDjia",
        "colab_type": "text"
      },
      "source": [
        "TIEMPO MAXIMO DE EXPOSICION\n"
      ]
    },
    {
      "cell_type": "code",
      "metadata": {
        "id": "OjfnLJjiDmZE",
        "colab_type": "code",
        "outputId": "b48ed93d-b147-4162-ad27-ad5dacd13abe",
        "colab": {
          "base_uri": "https://localhost:8080/",
          "height": 51
        }
      },
      "source": [
        "NPS = float(input(\"ingrese el NPS: \"))\n",
        "T = 8/2**((NPS-85)/3)\n",
        "\n",
        "print(\"El tiempo de exposicion es = \",T,\"hr\")"
      ],
      "execution_count": 0,
      "outputs": [
        {
          "output_type": "stream",
          "text": [
            "ingrese el NPS: 88\n",
            "El tiempo de exposicion es =  4.0 hr\n"
          ],
          "name": "stdout"
        }
      ]
    },
    {
      "cell_type": "markdown",
      "metadata": {
        "id": "bcITlT7TE2S0",
        "colab_type": "text"
      },
      "source": [
        "NIVEL DE PRESION SONORA EQUIVALENTE O NIVEL DE EXPOSICION EQUIVALENTE\n",
        "\n",
        "\n",
        "\n"
      ]
    },
    {
      "cell_type": "code",
      "metadata": {
        "id": "-rDB-bNgVw3S",
        "colab_type": "code",
        "colab": {}
      },
      "source": [
        "#INGRESE LA LISTA DE DATOS#\n",
        "N = [82,87,89.3] #(lista de NPS)\n",
        "T=[2,3,3] #(lista de los tiempos de exposicion)"
      ],
      "execution_count": 0,
      "outputs": []
    },
    {
      "cell_type": "code",
      "metadata": {
        "id": "KZ-XgwzrFFUV",
        "colab_type": "code",
        "outputId": "04d019fa-21b4-4df8-d112-b42da11ad7e3",
        "colab": {
          "base_uri": "https://localhost:8080/",
          "height": 34
        }
      },
      "source": [
        "contador = len(T)-1\n",
        "\n",
        "L = list()\n",
        "while contador >=0:\n",
        "    dividendo = T[contador]*10**(N[contador]/10)\n",
        "    contador = contador-1\n",
        "    L.append(dividendo)\n",
        "matriz1 = np.array(L)  \n",
        "matriz1 = np.sum(matriz1)\n",
        "\n",
        "matriz2 = np.array(T)\n",
        "matriz2 = np.sum(matriz2)\n",
        "\n",
        "NPSeq = 10*math.log10(matriz1/matriz2)\n",
        "print(\"NSPeq = \",NPSeq,\"dB/8h\")"
      ],
      "execution_count": 0,
      "outputs": [
        {
          "output_type": "stream",
          "text": [
            "NSPeq =  87.37784269421692 dB/8h\n"
          ],
          "name": "stdout"
        }
      ]
    },
    {
      "cell_type": "markdown",
      "metadata": {
        "id": "Vp5JgjyvYiZC",
        "colab_type": "text"
      },
      "source": [
        "CALCULO DEL NIVEL DE RUIDO EFECTIVO"
      ]
    },
    {
      "cell_type": "code",
      "metadata": {
        "id": "jjB8AR8KYcHW",
        "colab_type": "code",
        "outputId": "6360e827-043a-4da0-a33d-3220af5fc31d",
        "colab": {
          "base_uri": "https://localhost:8080/",
          "height": 136
        }
      },
      "source": [
        "NRR = float(input(\"ingrese el NRR: \"))\n",
        "R = float(input(\"ingrese el NPSeq: \"))\n",
        "P = input(\"¿Existe una doble proteccion?(comoque SI o NO en mayusculas)\")\n",
        "\n",
        "if P == \"SI\":\n",
        "  NRRF = ((NRR-7)/2)+5\n",
        "else: \n",
        "  NRRF = (NRR-7)/2\n",
        "\n",
        "print(\"\")\n",
        "print(\"NRRf = \",NRRF)\n",
        "print(\"Ruido al que esta expuesto sin proteccion = \",R)\n",
        "print(\"valor final del ruido reducido = \",R-NRRF)"
      ],
      "execution_count": 0,
      "outputs": [
        {
          "output_type": "stream",
          "text": [
            "ingrese el NRR: 16\n",
            "ingrese el NPSeq: 86.4\n",
            "¿Existe una doble proteccion?(comoque SI o NO en mayusculas)SI\n",
            "\n",
            "NRRf =  9.5\n",
            "Ruido al que esta expuesto sin proteccion =  86.4\n",
            "valor final del ruido reducido =  76.9\n"
          ],
          "name": "stdout"
        }
      ]
    },
    {
      "cell_type": "markdown",
      "metadata": {
        "id": "SaxyEkdkcimV",
        "colab_type": "text"
      },
      "source": [
        "DOSIS DE RUIDO"
      ]
    },
    {
      "cell_type": "code",
      "metadata": {
        "id": "PCZg2stIch2Y",
        "colab_type": "code",
        "outputId": "6a14f558-585c-43ef-ad85-eb3122ece29c",
        "colab": {
          "base_uri": "https://localhost:8080/",
          "height": 68
        }
      },
      "source": [
        "TE = float(input(\"ingrese el tiempo de exposicion(en minutos): \"))\n",
        "NE = float(input(\"ingrese el nivel de exposicion(NEeq): \"))\n",
        "\n",
        "D = (TE/480)*100*(2**((NE-85)/3))\n",
        "print(\"D = \",D,\"%\")"
      ],
      "execution_count": 0,
      "outputs": [
        {
          "output_type": "stream",
          "text": [
            "ingrese el tiempo de exposicion(en minutos): 60\n",
            "ingrese el nivel de exposicion(NEeq): 85\n",
            "D =  12.5 %\n"
          ],
          "name": "stdout"
        }
      ]
    },
    {
      "cell_type": "markdown",
      "metadata": {
        "id": "5-N6mNCCgvLa",
        "colab_type": "text"
      },
      "source": [
        "NIVEL DE EXPOSICION NORMALIZADO"
      ]
    },
    {
      "cell_type": "code",
      "metadata": {
        "id": "7dyMipgXgzBO",
        "colab_type": "code",
        "outputId": "314e74da-cf27-4b67-8408-226c846a77d6",
        "colab": {
          "base_uri": "https://localhost:8080/",
          "height": 68
        }
      },
      "source": [
        "TE = float(input(\"ingrese el tiempo de exposicion(en minutos): \"))\n",
        "NE = float(input(\"ingrese el nivel de exposicion(NEeq): \"))\n",
        "\n",
        "NEN = NE+10*math.log10(TE/480)\n",
        "print(\"NEN = \",NEN,\"dB\")"
      ],
      "execution_count": 0,
      "outputs": [
        {
          "output_type": "stream",
          "text": [
            "ingrese el tiempo de exposicion(en minutos): 60\n",
            "ingrese el nivel de exposicion(NEeq): 85\n",
            "NEN =  75.96910013008056 dB\n"
          ],
          "name": "stdout"
        }
      ]
    }
  ]
}
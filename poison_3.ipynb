{
  "nbformat": 4,
  "nbformat_minor": 0,
  "metadata": {
    "colab": {
      "name": "Untitled22_(2).ipynb",
      "provenance": [],
      "collapsed_sections": [],
      "include_colab_link": true
    },
    "kernelspec": {
      "name": "python3",
      "display_name": "Python 3"
    }
  },
  "cells": [
    {
      "cell_type": "markdown",
      "metadata": {
        "id": "view-in-github",
        "colab_type": "text"
      },
      "source": [
        "<a href=\"https://colab.research.google.com/github/jose-luis15/HIDROLOGIA/blob/master/poison_3.ipynb\" target=\"_parent\"><img src=\"https://colab.research.google.com/assets/colab-badge.svg\" alt=\"Open In Colab\"/></a>"
      ]
    },
    {
      "cell_type": "code",
      "metadata": {
        "id": "GHtgHH3lcr9I",
        "colab_type": "code",
        "colab": {}
      },
      "source": [
        "import pandas as pd"
      ],
      "execution_count": 0,
      "outputs": []
    },
    {
      "cell_type": "code",
      "metadata": {
        "id": "gswp2ZiHc8r6",
        "colab_type": "code",
        "outputId": "98c60c58-11ec-4a26-adc6-1d9dee9185d0",
        "colab": {
          "base_uri": "https://localhost:8080/",
          "height": 197
        }
      },
      "source": [
        "data = pd.read_excel(\"/content/PEARSON.xlsx\")\n",
        "data.head()"
      ],
      "execution_count": 0,
      "outputs": [
        {
          "output_type": "execute_result",
          "data": {
            "text/html": [
              "<div>\n",
              "<style scoped>\n",
              "    .dataframe tbody tr th:only-of-type {\n",
              "        vertical-align: middle;\n",
              "    }\n",
              "\n",
              "    .dataframe tbody tr th {\n",
              "        vertical-align: top;\n",
              "    }\n",
              "\n",
              "    .dataframe thead th {\n",
              "        text-align: right;\n",
              "    }\n",
              "</style>\n",
              "<table border=\"1\" class=\"dataframe\">\n",
              "  <thead>\n",
              "    <tr style=\"text-align: right;\">\n",
              "      <th></th>\n",
              "      <th>AÑO</th>\n",
              "      <th>Q</th>\n",
              "    </tr>\n",
              "  </thead>\n",
              "  <tbody>\n",
              "    <tr>\n",
              "      <th>0</th>\n",
              "      <td>1963.0</td>\n",
              "      <td>2.27</td>\n",
              "    </tr>\n",
              "    <tr>\n",
              "      <th>1</th>\n",
              "      <td>1964.0</td>\n",
              "      <td>4.80</td>\n",
              "    </tr>\n",
              "    <tr>\n",
              "      <th>2</th>\n",
              "      <td>1965.0</td>\n",
              "      <td>6.29</td>\n",
              "    </tr>\n",
              "    <tr>\n",
              "      <th>3</th>\n",
              "      <td>1966.0</td>\n",
              "      <td>4.25</td>\n",
              "    </tr>\n",
              "    <tr>\n",
              "      <th>4</th>\n",
              "      <td>1967.0</td>\n",
              "      <td>3.33</td>\n",
              "    </tr>\n",
              "  </tbody>\n",
              "</table>\n",
              "</div>"
            ],
            "text/plain": [
              "      AÑO     Q\n",
              "0  1963.0  2.27\n",
              "1  1964.0  4.80\n",
              "2  1965.0  6.29\n",
              "3  1966.0  4.25\n",
              "4  1967.0  3.33"
            ]
          },
          "metadata": {
            "tags": []
          },
          "execution_count": 6
        }
      ]
    },
    {
      "cell_type": "code",
      "metadata": {
        "id": "4E_J8HT0dEpI",
        "colab_type": "code",
        "outputId": "2b87e97f-7ca9-4ab1-db34-92aafbf04ace",
        "colab": {
          "base_uri": "https://localhost:8080/",
          "height": 197
        }
      },
      "source": [
        "data = data.sort_values('Q',ascending=False)\n",
        "a= len(data[\"Q\"])+1\n",
        "data[\"IND\"] = list(range(1,a))\n",
        "\n",
        "data.head()\n"
      ],
      "execution_count": 0,
      "outputs": [
        {
          "output_type": "execute_result",
          "data": {
            "text/html": [
              "<div>\n",
              "<style scoped>\n",
              "    .dataframe tbody tr th:only-of-type {\n",
              "        vertical-align: middle;\n",
              "    }\n",
              "\n",
              "    .dataframe tbody tr th {\n",
              "        vertical-align: top;\n",
              "    }\n",
              "\n",
              "    .dataframe thead th {\n",
              "        text-align: right;\n",
              "    }\n",
              "</style>\n",
              "<table border=\"1\" class=\"dataframe\">\n",
              "  <thead>\n",
              "    <tr style=\"text-align: right;\">\n",
              "      <th></th>\n",
              "      <th>AÑO</th>\n",
              "      <th>Q</th>\n",
              "      <th>IND</th>\n",
              "    </tr>\n",
              "  </thead>\n",
              "  <tbody>\n",
              "    <tr>\n",
              "      <th>35</th>\n",
              "      <td>1998.0</td>\n",
              "      <td>14.87</td>\n",
              "      <td>1</td>\n",
              "    </tr>\n",
              "    <tr>\n",
              "      <th>34</th>\n",
              "      <td>1997.0</td>\n",
              "      <td>11.67</td>\n",
              "      <td>2</td>\n",
              "    </tr>\n",
              "    <tr>\n",
              "      <th>20</th>\n",
              "      <td>1983.0</td>\n",
              "      <td>11.35</td>\n",
              "      <td>3</td>\n",
              "    </tr>\n",
              "    <tr>\n",
              "      <th>29</th>\n",
              "      <td>1992.0</td>\n",
              "      <td>8.69</td>\n",
              "      <td>4</td>\n",
              "    </tr>\n",
              "    <tr>\n",
              "      <th>38</th>\n",
              "      <td>2001.0</td>\n",
              "      <td>7.87</td>\n",
              "      <td>5</td>\n",
              "    </tr>\n",
              "  </tbody>\n",
              "</table>\n",
              "</div>"
            ],
            "text/plain": [
              "       AÑO      Q  IND\n",
              "35  1998.0  14.87    1\n",
              "34  1997.0  11.67    2\n",
              "20  1983.0  11.35    3\n",
              "29  1992.0   8.69    4\n",
              "38  2001.0   7.87    5"
            ]
          },
          "metadata": {
            "tags": []
          },
          "execution_count": 7
        }
      ]
    },
    {
      "cell_type": "code",
      "metadata": {
        "id": "2SnQW0k0f6Hm",
        "colab_type": "code",
        "outputId": "0a02ebb2-bed2-4008-91cb-71ebdd42d426",
        "colab": {
          "base_uri": "https://localhost:8080/",
          "height": 197
        }
      },
      "source": [
        "# calculamos el COEFICIENTE MODULAR (K) y sus variaciones\n",
        "y = data[\"Q\"].mean()\n",
        "\n",
        "k,k1,k2,k3 = list(),list(),list(),list()\n",
        "for x in data[\"Q\"]:\n",
        "  k.append(x/y)\n",
        "  k1.append((x/y) -1)\n",
        "  k2.append(((x/y) -1)**2)\n",
        "  k3.append(((x/y) -1)**3)\n",
        "\n",
        "data[\"K\"] = k \n",
        "data[\"K-1\"] = k1 \n",
        "data[\"(K-1)2\"] = k2 \n",
        "data[\"(K-1)3\"] = k3\n",
        "\n",
        "data.head()"
      ],
      "execution_count": 0,
      "outputs": [
        {
          "output_type": "execute_result",
          "data": {
            "text/html": [
              "<div>\n",
              "<style scoped>\n",
              "    .dataframe tbody tr th:only-of-type {\n",
              "        vertical-align: middle;\n",
              "    }\n",
              "\n",
              "    .dataframe tbody tr th {\n",
              "        vertical-align: top;\n",
              "    }\n",
              "\n",
              "    .dataframe thead th {\n",
              "        text-align: right;\n",
              "    }\n",
              "</style>\n",
              "<table border=\"1\" class=\"dataframe\">\n",
              "  <thead>\n",
              "    <tr style=\"text-align: right;\">\n",
              "      <th></th>\n",
              "      <th>AÑO</th>\n",
              "      <th>Q</th>\n",
              "      <th>IND</th>\n",
              "      <th>K</th>\n",
              "      <th>K-1</th>\n",
              "      <th>(K-1)2</th>\n",
              "      <th>(K-1)3</th>\n",
              "    </tr>\n",
              "  </thead>\n",
              "  <tbody>\n",
              "    <tr>\n",
              "      <th>35</th>\n",
              "      <td>1998.0</td>\n",
              "      <td>14.87</td>\n",
              "      <td>1</td>\n",
              "      <td>3.307327</td>\n",
              "      <td>2.307327</td>\n",
              "      <td>5.323756</td>\n",
              "      <td>12.283645</td>\n",
              "    </tr>\n",
              "    <tr>\n",
              "      <th>34</th>\n",
              "      <td>1997.0</td>\n",
              "      <td>11.67</td>\n",
              "      <td>2</td>\n",
              "      <td>2.595595</td>\n",
              "      <td>1.595595</td>\n",
              "      <td>2.545924</td>\n",
              "      <td>4.062265</td>\n",
              "    </tr>\n",
              "    <tr>\n",
              "      <th>20</th>\n",
              "      <td>1983.0</td>\n",
              "      <td>11.35</td>\n",
              "      <td>3</td>\n",
              "      <td>2.524422</td>\n",
              "      <td>1.524422</td>\n",
              "      <td>2.323863</td>\n",
              "      <td>3.542548</td>\n",
              "    </tr>\n",
              "    <tr>\n",
              "      <th>29</th>\n",
              "      <td>1992.0</td>\n",
              "      <td>8.69</td>\n",
              "      <td>4</td>\n",
              "      <td>1.932795</td>\n",
              "      <td>0.932795</td>\n",
              "      <td>0.870107</td>\n",
              "      <td>0.811632</td>\n",
              "    </tr>\n",
              "    <tr>\n",
              "      <th>38</th>\n",
              "      <td>2001.0</td>\n",
              "      <td>7.87</td>\n",
              "      <td>5</td>\n",
              "      <td>1.750414</td>\n",
              "      <td>0.750414</td>\n",
              "      <td>0.563122</td>\n",
              "      <td>0.422575</td>\n",
              "    </tr>\n",
              "  </tbody>\n",
              "</table>\n",
              "</div>"
            ],
            "text/plain": [
              "       AÑO      Q  IND         K       K-1    (K-1)2     (K-1)3\n",
              "35  1998.0  14.87    1  3.307327  2.307327  5.323756  12.283645\n",
              "34  1997.0  11.67    2  2.595595  1.595595  2.545924   4.062265\n",
              "20  1983.0  11.35    3  2.524422  1.524422  2.323863   3.542548\n",
              "29  1992.0   8.69    4  1.932795  0.932795  0.870107   0.811632\n",
              "38  2001.0   7.87    5  1.750414  0.750414  0.563122   0.422575"
            ]
          },
          "metadata": {
            "tags": []
          },
          "execution_count": 8
        }
      ]
    },
    {
      "cell_type": "code",
      "metadata": {
        "id": "lhn4_g6Lf6Ec",
        "colab_type": "code",
        "outputId": "b31f69e2-fd3c-4c98-e07e-78b5b98de3b4",
        "colab": {
          "base_uri": "https://localhost:8080/",
          "height": 197
        }
      },
      "source": [
        "# calculamos el porcentaje de probabilidad\n",
        "p = list()\n",
        "for z in data[\"IND\"]:\n",
        "  p.append(round(((z/a)*100),2)) \n",
        "data[\"P(%)\"] = p  \n",
        "\n",
        "data.head()"
      ],
      "execution_count": 0,
      "outputs": [
        {
          "output_type": "execute_result",
          "data": {
            "text/html": [
              "<div>\n",
              "<style scoped>\n",
              "    .dataframe tbody tr th:only-of-type {\n",
              "        vertical-align: middle;\n",
              "    }\n",
              "\n",
              "    .dataframe tbody tr th {\n",
              "        vertical-align: top;\n",
              "    }\n",
              "\n",
              "    .dataframe thead th {\n",
              "        text-align: right;\n",
              "    }\n",
              "</style>\n",
              "<table border=\"1\" class=\"dataframe\">\n",
              "  <thead>\n",
              "    <tr style=\"text-align: right;\">\n",
              "      <th></th>\n",
              "      <th>AÑO</th>\n",
              "      <th>Q</th>\n",
              "      <th>IND</th>\n",
              "      <th>K</th>\n",
              "      <th>K-1</th>\n",
              "      <th>(K-1)2</th>\n",
              "      <th>(K-1)3</th>\n",
              "      <th>P(%)</th>\n",
              "    </tr>\n",
              "  </thead>\n",
              "  <tbody>\n",
              "    <tr>\n",
              "      <th>35</th>\n",
              "      <td>1998.0</td>\n",
              "      <td>14.87</td>\n",
              "      <td>1</td>\n",
              "      <td>3.307327</td>\n",
              "      <td>2.307327</td>\n",
              "      <td>5.323756</td>\n",
              "      <td>12.283645</td>\n",
              "      <td>1.89</td>\n",
              "    </tr>\n",
              "    <tr>\n",
              "      <th>34</th>\n",
              "      <td>1997.0</td>\n",
              "      <td>11.67</td>\n",
              "      <td>2</td>\n",
              "      <td>2.595595</td>\n",
              "      <td>1.595595</td>\n",
              "      <td>2.545924</td>\n",
              "      <td>4.062265</td>\n",
              "      <td>3.77</td>\n",
              "    </tr>\n",
              "    <tr>\n",
              "      <th>20</th>\n",
              "      <td>1983.0</td>\n",
              "      <td>11.35</td>\n",
              "      <td>3</td>\n",
              "      <td>2.524422</td>\n",
              "      <td>1.524422</td>\n",
              "      <td>2.323863</td>\n",
              "      <td>3.542548</td>\n",
              "      <td>5.66</td>\n",
              "    </tr>\n",
              "    <tr>\n",
              "      <th>29</th>\n",
              "      <td>1992.0</td>\n",
              "      <td>8.69</td>\n",
              "      <td>4</td>\n",
              "      <td>1.932795</td>\n",
              "      <td>0.932795</td>\n",
              "      <td>0.870107</td>\n",
              "      <td>0.811632</td>\n",
              "      <td>7.55</td>\n",
              "    </tr>\n",
              "    <tr>\n",
              "      <th>38</th>\n",
              "      <td>2001.0</td>\n",
              "      <td>7.87</td>\n",
              "      <td>5</td>\n",
              "      <td>1.750414</td>\n",
              "      <td>0.750414</td>\n",
              "      <td>0.563122</td>\n",
              "      <td>0.422575</td>\n",
              "      <td>9.43</td>\n",
              "    </tr>\n",
              "  </tbody>\n",
              "</table>\n",
              "</div>"
            ],
            "text/plain": [
              "       AÑO      Q  IND         K       K-1    (K-1)2     (K-1)3  P(%)\n",
              "35  1998.0  14.87    1  3.307327  2.307327  5.323756  12.283645  1.89\n",
              "34  1997.0  11.67    2  2.595595  1.595595  2.545924   4.062265  3.77\n",
              "20  1983.0  11.35    3  2.524422  1.524422  2.323863   3.542548  5.66\n",
              "29  1992.0   8.69    4  1.932795  0.932795  0.870107   0.811632  7.55\n",
              "38  2001.0   7.87    5  1.750414  0.750414  0.563122   0.422575  9.43"
            ]
          },
          "metadata": {
            "tags": []
          },
          "execution_count": 11
        }
      ]
    },
    {
      "cell_type": "code",
      "metadata": {
        "id": "217gfL_Qf6BS",
        "colab_type": "code",
        "outputId": "6bb0b9f3-c7b2-4ad1-ceae-46ad4b44aba8",
        "colab": {
          "base_uri": "https://localhost:8080/",
          "height": 33
        }
      },
      "source": [
        "#calculamos el coeficiente de variacion\n",
        "import math\n",
        "# calculamos la desviacion standar\n",
        "lista = list()\n",
        "for w in data[\"Q\"]:\n",
        "  lista.append((w-y)**2)\n",
        "  \n",
        "desviacion_standar = math.sqrt(sum(lista)/len(data[\"Q\"]))\n",
        "coeficiente_var = round(desviacion_standar/y,2)\n",
        "\n",
        "print(\"coeficiente de variacion = \",coeficiente_var)"
      ],
      "execution_count": 0,
      "outputs": [
        {
          "output_type": "stream",
          "text": [
            "coeficiente de variacion =  0.61\n"
          ],
          "name": "stdout"
        }
      ]
    },
    {
      "cell_type": "code",
      "metadata": {
        "id": "wfR_M-SLf595",
        "colab_type": "code",
        "outputId": "e385177a-08b2-472b-f5ef-dde9201d5c9d",
        "colab": {
          "base_uri": "https://localhost:8080/",
          "height": 33
        }
      },
      "source": [
        "#calculamos el coeficente de asimetria\n",
        "lista2 = list()\n",
        "for t in data[\"Q\"]:\n",
        "  lista2.append((t-y)**3) \n",
        "\n",
        "coeficiente_asi = round((1/(desviacion_standar**3))*(1/len(data[\"Q\"]))*sum(lista2),1)\n",
        "print(\"coeficiente de asimetria = \",coeficiente_asi)\n",
        "\n",
        "\n"
      ],
      "execution_count": 0,
      "outputs": [
        {
          "output_type": "stream",
          "text": [
            "coeficiente de asimetria =  1.7\n"
          ],
          "name": "stdout"
        }
      ]
    },
    {
      "cell_type": "code",
      "metadata": {
        "id": "l8QNFmLiRPrw",
        "colab_type": "code",
        "outputId": "a4f38d9b-e610-4980-b28a-edafeac307f8",
        "colab": {
          "base_uri": "https://localhost:8080/",
          "height": 197
        }
      },
      "source": [
        "constantes = pd.read_excel(\"/content/TABLA COEFICIENTES FOSTER - RYBKIN-convertido.xlsx\")\n",
        "constantes.head()"
      ],
      "execution_count": 0,
      "outputs": [
        {
          "output_type": "execute_result",
          "data": {
            "text/html": [
              "<div>\n",
              "<style scoped>\n",
              "    .dataframe tbody tr th:only-of-type {\n",
              "        vertical-align: middle;\n",
              "    }\n",
              "\n",
              "    .dataframe tbody tr th {\n",
              "        vertical-align: top;\n",
              "    }\n",
              "\n",
              "    .dataframe thead th {\n",
              "        text-align: right;\n",
              "    }\n",
              "</style>\n",
              "<table border=\"1\" class=\"dataframe\">\n",
              "  <thead>\n",
              "    <tr style=\"text-align: right;\">\n",
              "      <th></th>\n",
              "      <th>cs</th>\n",
              "      <th>0.01</th>\n",
              "      <th>0.1</th>\n",
              "      <th>0.5</th>\n",
              "      <th>1</th>\n",
              "      <th>3</th>\n",
              "      <th>5</th>\n",
              "      <th>10</th>\n",
              "      <th>20</th>\n",
              "      <th>25</th>\n",
              "      <th>30</th>\n",
              "      <th>40</th>\n",
              "      <th>50</th>\n",
              "      <th>60</th>\n",
              "      <th>70</th>\n",
              "      <th>75</th>\n",
              "      <th>80</th>\n",
              "      <th>90</th>\n",
              "      <th>95</th>\n",
              "      <th>97</th>\n",
              "      <th>99</th>\n",
              "      <th>99.9</th>\n",
              "    </tr>\n",
              "  </thead>\n",
              "  <tbody>\n",
              "    <tr>\n",
              "      <th>0</th>\n",
              "      <td>0.0</td>\n",
              "      <td>3.72</td>\n",
              "      <td>3.09</td>\n",
              "      <td>2.57</td>\n",
              "      <td>2.33</td>\n",
              "      <td>1.88</td>\n",
              "      <td>1.64</td>\n",
              "      <td>1.28</td>\n",
              "      <td>0.84</td>\n",
              "      <td>0.67</td>\n",
              "      <td>0.52</td>\n",
              "      <td>0.25</td>\n",
              "      <td>0.00</td>\n",
              "      <td>-0.25</td>\n",
              "      <td>-0.52</td>\n",
              "      <td>-0.67</td>\n",
              "      <td>-0.84</td>\n",
              "      <td>-1.28</td>\n",
              "      <td>-1.64</td>\n",
              "      <td>-1.88</td>\n",
              "      <td>-2.33</td>\n",
              "      <td>-3.09</td>\n",
              "    </tr>\n",
              "    <tr>\n",
              "      <th>1</th>\n",
              "      <td>0.1</td>\n",
              "      <td>3.94</td>\n",
              "      <td>3.23</td>\n",
              "      <td>2.68</td>\n",
              "      <td>2.40</td>\n",
              "      <td>1.92</td>\n",
              "      <td>1.67</td>\n",
              "      <td>1.29</td>\n",
              "      <td>0.84</td>\n",
              "      <td>0.66</td>\n",
              "      <td>0.51</td>\n",
              "      <td>0.24</td>\n",
              "      <td>-0.02</td>\n",
              "      <td>-0.27</td>\n",
              "      <td>-0.53</td>\n",
              "      <td>-0.68</td>\n",
              "      <td>-0.85</td>\n",
              "      <td>-1.27</td>\n",
              "      <td>-1.61</td>\n",
              "      <td>-1.84</td>\n",
              "      <td>-2.25</td>\n",
              "      <td>-2.95</td>\n",
              "    </tr>\n",
              "    <tr>\n",
              "      <th>2</th>\n",
              "      <td>0.2</td>\n",
              "      <td>4.16</td>\n",
              "      <td>3.33</td>\n",
              "      <td>2.78</td>\n",
              "      <td>2.47</td>\n",
              "      <td>1.96</td>\n",
              "      <td>1.70</td>\n",
              "      <td>1.30</td>\n",
              "      <td>0.83</td>\n",
              "      <td>0.65</td>\n",
              "      <td>0.50</td>\n",
              "      <td>0.22</td>\n",
              "      <td>-0.03</td>\n",
              "      <td>-0.28</td>\n",
              "      <td>-0.55</td>\n",
              "      <td>-0.69</td>\n",
              "      <td>-0.85</td>\n",
              "      <td>-1.26</td>\n",
              "      <td>-1.58</td>\n",
              "      <td>-1.79</td>\n",
              "      <td>-2.18</td>\n",
              "      <td>-2.81</td>\n",
              "    </tr>\n",
              "    <tr>\n",
              "      <th>3</th>\n",
              "      <td>0.3</td>\n",
              "      <td>4.38</td>\n",
              "      <td>3.52</td>\n",
              "      <td>2.89</td>\n",
              "      <td>2.54</td>\n",
              "      <td>2.00</td>\n",
              "      <td>1.72</td>\n",
              "      <td>1.31</td>\n",
              "      <td>0.82</td>\n",
              "      <td>0.64</td>\n",
              "      <td>0.48</td>\n",
              "      <td>0.20</td>\n",
              "      <td>-0.05</td>\n",
              "      <td>-0.30</td>\n",
              "      <td>-0.56</td>\n",
              "      <td>-0.70</td>\n",
              "      <td>-0.85</td>\n",
              "      <td>-1.24</td>\n",
              "      <td>-1.55</td>\n",
              "      <td>-1.75</td>\n",
              "      <td>-2.10</td>\n",
              "      <td>-2.67</td>\n",
              "    </tr>\n",
              "    <tr>\n",
              "      <th>4</th>\n",
              "      <td>0.4</td>\n",
              "      <td>4.61</td>\n",
              "      <td>3.66</td>\n",
              "      <td>2.98</td>\n",
              "      <td>2.61</td>\n",
              "      <td>2.04</td>\n",
              "      <td>1.75</td>\n",
              "      <td>1.32</td>\n",
              "      <td>0.82</td>\n",
              "      <td>0.63</td>\n",
              "      <td>0.47</td>\n",
              "      <td>0.19</td>\n",
              "      <td>-0.07</td>\n",
              "      <td>-0.31</td>\n",
              "      <td>-0.57</td>\n",
              "      <td>-0.71</td>\n",
              "      <td>-0.85</td>\n",
              "      <td>-1.23</td>\n",
              "      <td>-1.52</td>\n",
              "      <td>-1.70</td>\n",
              "      <td>-2.03</td>\n",
              "      <td>-2.54</td>\n",
              "    </tr>\n",
              "  </tbody>\n",
              "</table>\n",
              "</div>"
            ],
            "text/plain": [
              "    cs  0.01   0.1   0.5     1     3  ...    80    90    95    97    99  99.9\n",
              "0  0.0  3.72  3.09  2.57  2.33  1.88  ... -0.84 -1.28 -1.64 -1.88 -2.33 -3.09\n",
              "1  0.1  3.94  3.23  2.68  2.40  1.92  ... -0.85 -1.27 -1.61 -1.84 -2.25 -2.95\n",
              "2  0.2  4.16  3.33  2.78  2.47  1.96  ... -0.85 -1.26 -1.58 -1.79 -2.18 -2.81\n",
              "3  0.3  4.38  3.52  2.89  2.54  2.00  ... -0.85 -1.24 -1.55 -1.75 -2.10 -2.67\n",
              "4  0.4  4.61  3.66  2.98  2.61  2.04  ... -0.85 -1.23 -1.52 -1.70 -2.03 -2.54\n",
              "\n",
              "[5 rows x 22 columns]"
            ]
          },
          "metadata": {
            "tags": []
          },
          "execution_count": 56
        }
      ]
    },
    {
      "cell_type": "code",
      "metadata": {
        "id": "wI3cpXSUDQHV",
        "colab_type": "code",
        "outputId": "c448c3c5-cf87-42ef-b98a-6492b824bd60",
        "colab": {
          "base_uri": "https://localhost:8080/",
          "height": 77
        }
      },
      "source": [
        "values = constantes[constantes['cs'] == coeficiente_asi]\n",
        "values"
      ],
      "execution_count": 0,
      "outputs": [
        {
          "output_type": "execute_result",
          "data": {
            "text/html": [
              "<div>\n",
              "<style scoped>\n",
              "    .dataframe tbody tr th:only-of-type {\n",
              "        vertical-align: middle;\n",
              "    }\n",
              "\n",
              "    .dataframe tbody tr th {\n",
              "        vertical-align: top;\n",
              "    }\n",
              "\n",
              "    .dataframe thead th {\n",
              "        text-align: right;\n",
              "    }\n",
              "</style>\n",
              "<table border=\"1\" class=\"dataframe\">\n",
              "  <thead>\n",
              "    <tr style=\"text-align: right;\">\n",
              "      <th></th>\n",
              "      <th>cs</th>\n",
              "      <th>0.01</th>\n",
              "      <th>0.1</th>\n",
              "      <th>0.5</th>\n",
              "      <th>1</th>\n",
              "      <th>3</th>\n",
              "      <th>5</th>\n",
              "      <th>10</th>\n",
              "      <th>20</th>\n",
              "      <th>25</th>\n",
              "      <th>30</th>\n",
              "      <th>40</th>\n",
              "      <th>50</th>\n",
              "      <th>60</th>\n",
              "      <th>70</th>\n",
              "      <th>75</th>\n",
              "      <th>80</th>\n",
              "      <th>90</th>\n",
              "      <th>95</th>\n",
              "      <th>97</th>\n",
              "      <th>99</th>\n",
              "      <th>99.9</th>\n",
              "    </tr>\n",
              "  </thead>\n",
              "  <tbody>\n",
              "    <tr>\n",
              "      <th>17</th>\n",
              "      <td>1.7</td>\n",
              "      <td>7.54</td>\n",
              "      <td>5.5</td>\n",
              "      <td>4.1</td>\n",
              "      <td>3.44</td>\n",
              "      <td>2.44</td>\n",
              "      <td>1.97</td>\n",
              "      <td>1.32</td>\n",
              "      <td>0.66</td>\n",
              "      <td>0.44</td>\n",
              "      <td>0.26</td>\n",
              "      <td>-0.03</td>\n",
              "      <td>-0.27</td>\n",
              "      <td>-0.47</td>\n",
              "      <td>-0.64</td>\n",
              "      <td>-0.72</td>\n",
              "      <td>-0.81</td>\n",
              "      <td>-0.97</td>\n",
              "      <td>-1.06</td>\n",
              "      <td>-1.1</td>\n",
              "      <td>-1.14</td>\n",
              "      <td>-1.17</td>\n",
              "    </tr>\n",
              "  </tbody>\n",
              "</table>\n",
              "</div>"
            ],
            "text/plain": [
              "     cs  0.01  0.1  0.5     1     3  ...    80    90    95   97    99  99.9\n",
              "17  1.7  7.54  5.5  4.1  3.44  2.44  ... -0.81 -0.97 -1.06 -1.1 -1.14 -1.17\n",
              "\n",
              "[1 rows x 22 columns]"
            ]
          },
          "metadata": {
            "tags": []
          },
          "execution_count": 57
        }
      ]
    },
    {
      "cell_type": "code",
      "metadata": {
        "id": "xN7-0m4SIAeP",
        "colab_type": "code",
        "colab": {}
      },
      "source": [
        ""
      ],
      "execution_count": 0,
      "outputs": []
    },
    {
      "cell_type": "code",
      "metadata": {
        "id": "H2Vft8F8HYKg",
        "colab_type": "code",
        "outputId": "2e0206b5-f018-4c3c-ec9a-11b7639a750b",
        "colab": {
          "base_uri": "https://localhost:8080/",
          "height": 177
        }
      },
      "source": [
        "for r in grafico[\"probabilidad\"]:\n",
        "  print(round(y(1+r*coeficiente_asi),2))\n"
      ],
      "execution_count": 0,
      "outputs": [
        {
          "output_type": "error",
          "ename": "TypeError",
          "evalue": "ignored",
          "traceback": [
            "\u001b[0;31m---------------------------------------------------------------------------\u001b[0m",
            "\u001b[0;31mTypeError\u001b[0m                                 Traceback (most recent call last)",
            "\u001b[0;32m<ipython-input-65-c7c149a9c915>\u001b[0m in \u001b[0;36m<module>\u001b[0;34m()\u001b[0m\n\u001b[1;32m      1\u001b[0m \u001b[0;32mfor\u001b[0m \u001b[0mr\u001b[0m \u001b[0;32min\u001b[0m \u001b[0mgrafico\u001b[0m\u001b[0;34m[\u001b[0m\u001b[0;34m\"probabilidad\"\u001b[0m\u001b[0;34m]\u001b[0m\u001b[0;34m:\u001b[0m\u001b[0;34m\u001b[0m\u001b[0;34m\u001b[0m\u001b[0m\n\u001b[0;32m----> 2\u001b[0;31m   \u001b[0mprint\u001b[0m\u001b[0;34m(\u001b[0m\u001b[0mround\u001b[0m\u001b[0;34m(\u001b[0m\u001b[0my\u001b[0m\u001b[0;34m(\u001b[0m\u001b[0;36m1\u001b[0m\u001b[0;34m+\u001b[0m\u001b[0mround\u001b[0m\u001b[0;34m(\u001b[0m\u001b[0mr\u001b[0m\u001b[0;34m,\u001b[0m\u001b[0;36m2\u001b[0m\u001b[0;34m)\u001b[0m\u001b[0;34m*\u001b[0m\u001b[0mcoeficiente_asi\u001b[0m\u001b[0;34m)\u001b[0m\u001b[0;34m,\u001b[0m\u001b[0;36m2\u001b[0m\u001b[0;34m)\u001b[0m\u001b[0;34m)\u001b[0m\u001b[0;34m\u001b[0m\u001b[0;34m\u001b[0m\u001b[0m\n\u001b[0m",
            "\u001b[0;31mTypeError\u001b[0m: 'float' object is not callable"
          ]
        }
      ]
    },
    {
      "cell_type": "code",
      "metadata": {
        "id": "_6UDTXowpd6p",
        "colab_type": "code",
        "outputId": "d39b09ed-1e9b-4494-a680-333ac6cf300e",
        "colab": {
          "base_uri": "https://localhost:8080/",
          "height": 227
        }
      },
      "source": [
        "values = list(constantes[constantes['cs'] == coeficiente_asi])\n",
        "values .pop(0)\n",
        "\n",
        "caudales = list()\n",
        "grafico = pd.DataFrame({\"probabilidad\":values,\"caudales\":range(0,21)})\n",
        "for r in grafico[\"probabilidad\"]:\n",
        "  caudales.append(round(y(1+r*coeficiente_asi),2))\n",
        "   \n",
        "grafico[\"caudales\"] = caudales\n",
        "grafico"
      ],
      "execution_count": 0,
      "outputs": [
        {
          "output_type": "error",
          "ename": "TypeError",
          "evalue": "ignored",
          "traceback": [
            "\u001b[0;31m---------------------------------------------------------------------------\u001b[0m",
            "\u001b[0;31mTypeError\u001b[0m                                 Traceback (most recent call last)",
            "\u001b[0;32m<ipython-input-60-9bfd9ba62c27>\u001b[0m in \u001b[0;36m<module>\u001b[0;34m()\u001b[0m\n\u001b[1;32m      5\u001b[0m \u001b[0mgrafico\u001b[0m \u001b[0;34m=\u001b[0m \u001b[0mpd\u001b[0m\u001b[0;34m.\u001b[0m\u001b[0mDataFrame\u001b[0m\u001b[0;34m(\u001b[0m\u001b[0;34m{\u001b[0m\u001b[0;34m\"probabilidad\"\u001b[0m\u001b[0;34m:\u001b[0m\u001b[0mvalues\u001b[0m\u001b[0;34m,\u001b[0m\u001b[0;34m\"caudales\"\u001b[0m\u001b[0;34m:\u001b[0m\u001b[0mrange\u001b[0m\u001b[0;34m(\u001b[0m\u001b[0;36m0\u001b[0m\u001b[0;34m,\u001b[0m\u001b[0;36m21\u001b[0m\u001b[0;34m)\u001b[0m\u001b[0;34m}\u001b[0m\u001b[0;34m)\u001b[0m\u001b[0;34m\u001b[0m\u001b[0;34m\u001b[0m\u001b[0m\n\u001b[1;32m      6\u001b[0m \u001b[0;32mfor\u001b[0m \u001b[0mr\u001b[0m \u001b[0;32min\u001b[0m \u001b[0mgrafico\u001b[0m\u001b[0;34m[\u001b[0m\u001b[0;34m\"probabilidad\"\u001b[0m\u001b[0;34m]\u001b[0m\u001b[0;34m:\u001b[0m\u001b[0;34m\u001b[0m\u001b[0;34m\u001b[0m\u001b[0m\n\u001b[0;32m----> 7\u001b[0;31m   \u001b[0mcaudales\u001b[0m\u001b[0;34m.\u001b[0m\u001b[0mappend\u001b[0m\u001b[0;34m(\u001b[0m\u001b[0mround\u001b[0m\u001b[0;34m(\u001b[0m\u001b[0my\u001b[0m\u001b[0;34m(\u001b[0m\u001b[0;36m1\u001b[0m\u001b[0;34m+\u001b[0m\u001b[0mr\u001b[0m\u001b[0;34m*\u001b[0m\u001b[0mcoeficiente_asi\u001b[0m\u001b[0;34m)\u001b[0m\u001b[0;34m,\u001b[0m\u001b[0;36m2\u001b[0m\u001b[0;34m)\u001b[0m\u001b[0;34m)\u001b[0m\u001b[0;34m\u001b[0m\u001b[0;34m\u001b[0m\u001b[0m\n\u001b[0m\u001b[1;32m      8\u001b[0m \u001b[0;34m\u001b[0m\u001b[0m\n\u001b[1;32m      9\u001b[0m \u001b[0mgrafico\u001b[0m\u001b[0;34m[\u001b[0m\u001b[0;34m\"caudales\"\u001b[0m\u001b[0;34m]\u001b[0m \u001b[0;34m=\u001b[0m \u001b[0mcaudales\u001b[0m\u001b[0;34m\u001b[0m\u001b[0;34m\u001b[0m\u001b[0m\n",
            "\u001b[0;31mTypeError\u001b[0m: 'float' object is not callable"
          ]
        }
      ]
    }
  ]
}
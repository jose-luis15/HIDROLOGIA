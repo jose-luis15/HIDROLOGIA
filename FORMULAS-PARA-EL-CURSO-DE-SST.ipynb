{
  "nbformat": 4,
  "nbformat_minor": 0,
  "metadata": {
    "colab": {
      "name": "Untitled26.ipynb",
      "provenance": [],
      "collapsed_sections": [],
      "authorship_tag": "ABX9TyNxlTaEg6XD/G9K44m9jTNZ",
      "include_colab_link": true
    },
    "kernelspec": {
      "name": "python3",
      "display_name": "Python 3"
    }
  },
  "cells": [
    {
      "cell_type": "markdown",
      "metadata": {
        "id": "view-in-github",
        "colab_type": "text"
      },
      "source": [
        "<a href=\"https://colab.research.google.com/github/jose-luis15/HIDROLOGIA/blob/master/FORMULAS-PARA-EL-CURSO-DE-SST.ipynb\" target=\"_parent\"><img src=\"https://colab.research.google.com/assets/colab-badge.svg\" alt=\"Open In Colab\"/></a>"
      ]
    },
    {
      "cell_type": "code",
      "metadata": {
        "id": "XCnyc2LMBtcA",
        "colab_type": "code",
        "colab": {}
      },
      "source": [
        "import math\n",
        "import numpy as np"
      ],
      "execution_count": 0,
      "outputs": []
    },
    {
      "cell_type": "markdown",
      "metadata": {
        "id": "gXK8TWgdDjia",
        "colab_type": "text"
      },
      "source": [
        "TIEMPO MAXIMO DE EXPOSICION\n"
      ]
    },
    {
      "cell_type": "code",
      "metadata": {
        "id": "OjfnLJjiDmZE",
        "colab_type": "code",
        "colab": {
          "base_uri": "https://localhost:8080/",
          "height": 51
        },
        "outputId": "bf4a5606-9924-4b9f-a345-699913bf5f85"
      },
      "source": [
        "NPS = float(input(\"ingrese el NPS: \"))\n",
        "T = 8/2**((NPS-85)/3)\n",
        "\n",
        "print(\"El tiempo de exposicion es = \",T,\"hr\")"
      ],
      "execution_count": 4,
      "outputs": [
        {
          "output_type": "stream",
          "text": [
            "ingrese el NPS82\n",
            "El tiempo de exposicion es =  16.0 hr\n"
          ],
          "name": "stdout"
        }
      ]
    },
    {
      "cell_type": "markdown",
      "metadata": {
        "id": "bcITlT7TE2S0",
        "colab_type": "text"
      },
      "source": [
        "NIVEL DE PRESION SONORA EQUIVALENTE"
      ]
    },
    {
      "cell_type": "code",
      "metadata": {
        "id": "-rDB-bNgVw3S",
        "colab_type": "code",
        "colab": {}
      },
      "source": [
        "#INGRESE LA LISTA DE DATOS#\n",
        "N = [82,87]\n",
        "T=[2,3]"
      ],
      "execution_count": 0,
      "outputs": []
    },
    {
      "cell_type": "code",
      "metadata": {
        "id": "KZ-XgwzrFFUV",
        "colab_type": "code",
        "colab": {
          "base_uri": "https://localhost:8080/",
          "height": 34
        },
        "outputId": "f2e79565-a7fe-4e33-a5c7-886fba2a6f37"
      },
      "source": [
        "contador = len(T)-1\n",
        "\n",
        "L = list()\n",
        "while contador >=0:\n",
        "    dividendo = T[contador]*10**(N[contador]/10)\n",
        "    contador = contador-1\n",
        "    L.append(dividendo)\n",
        "matriz1 = np.array(L)  \n",
        "matriz1 = np.sum(matriz1)\n",
        "\n",
        "matriz2 = np.array(T)\n",
        "matriz2 = np.sum(matriz2)\n",
        "\n",
        "NPSeq = 10*math.log10(matriz1/matriz2)\n",
        "print(\"NSPeq = \",NPSeq,\"dB/8h\")"
      ],
      "execution_count": 55,
      "outputs": [
        {
          "output_type": "stream",
          "text": [
            "NSPeq =  85.61230302099807 dB/8h\n"
          ],
          "name": "stdout"
        }
      ]
    },
    {
      "cell_type": "markdown",
      "metadata": {
        "id": "Vp5JgjyvYiZC",
        "colab_type": "text"
      },
      "source": [
        "CALCULO DEL NIVEL DE RUIDO EFECTIVO"
      ]
    },
    {
      "cell_type": "code",
      "metadata": {
        "id": "jjB8AR8KYcHW",
        "colab_type": "code",
        "colab": {
          "base_uri": "https://localhost:8080/",
          "height": 85
        },
        "outputId": "5116f1c4-5b29-4eba-b395-24cb2f8921a9"
      },
      "source": [
        "NRR = float(input(\"ingrese el NRR: \"))\n",
        "R = float(input(\"ingrese el NPSeq: \"))\n",
        "P = input(\"¿Existe una doble proteccion?(comoque SI o NO en mayusculas)\")\n",
        "\n",
        "if P == \"SI\":\n",
        "  NRRF = ((NRR-7)/2)+5\n",
        "else: \n",
        "  NRRF = (NRR-7)/2\n",
        "\n",
        "print(\"NRRf = \",R-NRRF)"
      ],
      "execution_count": 58,
      "outputs": [
        {
          "output_type": "stream",
          "text": [
            "ingrese el NRR: 16\n",
            "ingrese el NPSeq: 86.4\n",
            "¡Existe una doble proteccion?(comoque SI o NO en mayusculas)NO\n",
            "NRRf =  81.9\n"
          ],
          "name": "stdout"
        }
      ]
    },
    {
      "cell_type": "code",
      "metadata": {
        "id": "LJWhXcpwa22t",
        "colab_type": "code",
        "colab": {
          "base_uri": "https://localhost:8080/",
          "height": 34
        },
        "outputId": "a5170551-1405-4693-ef16-2522ce1081b3"
      },
      "source": [
        ""
      ],
      "execution_count": 59,
      "outputs": [
        {
          "output_type": "execute_result",
          "data": {
            "text/plain": [
              "4.5"
            ]
          },
          "metadata": {
            "tags": []
          },
          "execution_count": 59
        }
      ]
    }
  ]
}